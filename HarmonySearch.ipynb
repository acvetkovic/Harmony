{
 "cells": [
  {
   "cell_type": "code",
   "execution_count": 2,
   "id": "f26eaff3",
   "metadata": {},
   "outputs": [],
   "source": [
    "import networkx as nx\n",
    "import random\n",
    "import math\n",
    "import copy"
   ]
  },
  {
   "cell_type": "code",
   "execution_count": 3,
   "id": "60bb92d8",
   "metadata": {},
   "outputs": [],
   "source": [
    "def euclid_distance(u_x: float,\n",
    "                    u_y: float,\n",
    "                    v_x: float,\n",
    "                    v_y: float) -> float:\n",
    "    return math.sqrt((u_x - v_x)**2 + (u_y - v_y)**2)"
   ]
  },
  {
   "cell_type": "code",
   "execution_count": 4,
   "id": "113da438",
   "metadata": {},
   "outputs": [],
   "source": [
    "def read_instance(file_path: str) -> nx.Graph:\n",
    "    with open(file_path, 'r') as f:\n",
    "        g = nx.Graph()\n",
    "        for line in f:\n",
    "            if line[0].isdigit():\n",
    "                node_id, x, y = [float(a) for a in line.split()]\n",
    "                g.add_node(int(node_id) - 1, x=x, y=y)\n",
    "        \n",
    "        for u in range(len(g.nodes)):\n",
    "            for v in range(u + 1, len(g.nodes)):\n",
    "                \n",
    "                weight = euclid_distance(g.nodes[u]['x'],\n",
    "                                        g.nodes[u]['y'],\n",
    "                                        g.nodes[v]['x'],\n",
    "                                        g.nodes[v]['y'])\n",
    "                \n",
    "                g.add_edge(u, v, weight=weight)\n",
    "                \n",
    "        return g"
   ]
  },
  {
   "cell_type": "code",
   "execution_count": 5,
   "id": "1b25fe6e",
   "metadata": {},
   "outputs": [],
   "source": [
    "g = read_instance(file_path='dj38.tsp')"
   ]
  },
  {
   "cell_type": "code",
   "execution_count": 266,
   "id": "f341e1d7",
   "metadata": {},
   "outputs": [],
   "source": [
    "class Harmony: \n",
    "    def __init__(self, start):\n",
    "        self.cycle, self.fitness = self.hamiltonian(g, start)\n",
    "    \n",
    "    def __str__(self):\n",
    "        return ' '.join([str(u) for u in self.cycle])# + f'{self.fitness}'\n",
    "    \n",
    "    def __getitem__(self,index):\n",
    "        return self.cycle[index]\n",
    "    \n",
    "    def hamiltonian(\n",
    "        self: Harmony,\n",
    "        g: nx.Graph,\n",
    "        start: int\n",
    "    ):\n",
    "    \n",
    "        cycle = [start]\n",
    "        cycle_weight = 0\n",
    "        visited = {start}\n",
    "        u = start\n",
    "        while len(visited) != len(g.nodes):\n",
    "            neighbours = [v for v in g[u] if v not in visited]\n",
    "            chosen_neighbour = random.choices(neighbours, weights=None, k=1)[0]\n",
    "            cycle.append(chosen_neighbour)\n",
    "            visited.add(chosen_neighbour)\n",
    "            cycle_weight += g[u][chosen_neighbour]['weight']\n",
    "            u = chosen_neighbour\n",
    "        \n",
    "        cycle_weight += g[start][cycle[-1]]['weight']\n",
    "        return cycle, cycle_weight"
   ]
  },
  {
   "cell_type": "code",
   "execution_count": 283,
   "id": "91e6513c",
   "metadata": {},
   "outputs": [],
   "source": [
    "def HarmonySearch( #TODO 1)same random?\n",
    "    g: nx.Graph,\n",
    "    hms: int, #number of harmonies\n",
    "    rA: float, #harmony memory accepting rate\n",
    "    rPA: float, #pitch adjusting rate\n",
    "    maxIterations: int\n",
    "):\n",
    "    HarmonyMemory = [Harmony(start=0) for _ in range(hms)]\n",
    "    \n",
    "    for t in range(maxIterations):\n",
    "        numOfCities = len(HarmonyMemory[0])\n",
    "        \n",
    "        newHarmony = []\n",
    "        for i in range(numOfCities):\n",
    "            if random.random() < rA:\n",
    "                #chose a value from HM for the variable i (play same harmony)\n",
    "                newHarmony = chooseFromHM(HarmonyMemory, newHarmony, i)\n",
    "                if random.random() < rPA:\n",
    "                    #adjust the value (improvise on harmony)\n",
    "                    newHarmony = adjustHarmony(newHarmony)\n",
    "            else:\n",
    "                #chose random harmony (improvise)\n",
    "                newHarmony.append(random.choices(range(), 1))\n",
    "            \n",
    "            if len(newHarmony) != i+1 : #node doesnt have unvisited neighbor\n",
    "                break\n",
    "            \n",
    "        #accept solution if better than worst\n",
    "        HarmonyMemory.sort(key=lambda x : x[_].fitness)\n",
    "        \n",
    "        #(calc fitness and sort hm fitnesses)\n",
    "        \n",
    "    #return best solution"
   ]
  },
  {
   "cell_type": "code",
   "execution_count": 286,
   "id": "4b816bbe",
   "metadata": {},
   "outputs": [
    {
     "name": "stdout",
     "output_type": "stream",
     "text": [
      "26974.899782271918\n",
      "28507.750690001056\n",
      "27995.74459608851\n",
      "26373.08636891863\n",
      "26857.525465089122\n"
     ]
    }
   ],
   "source": [
    "for h in HarmonyMemory:\n",
    "    print(h.fitness)"
   ]
  },
  {
   "cell_type": "code",
   "execution_count": 1,
   "id": "f7ff4899",
   "metadata": {},
   "outputs": [
    {
     "ename": "NameError",
     "evalue": "name 'HarmonyMemory' is not defined",
     "output_type": "error",
     "traceback": [
      "\u001b[0;31m---------------------------------------------------------------------------\u001b[0m",
      "\u001b[0;31mNameError\u001b[0m                                 Traceback (most recent call last)",
      "Cell \u001b[0;32mIn [1], line 1\u001b[0m\n\u001b[0;32m----> 1\u001b[0m \u001b[43mHarmonyMemory\u001b[49m\u001b[38;5;241m.\u001b[39msort(key\u001b[38;5;241m=\u001b[39m \u001b[38;5;28;01mlambda\u001b[39;00m x : (HarmonyMemory[x]\u001b[38;5;241m.\u001b[39mfitness))\n",
      "\u001b[0;31mNameError\u001b[0m: name 'HarmonyMemory' is not defined"
     ]
    }
   ],
   "source": [
    "HarmonyMemory.sort(key= lambda x : (HarmonyMemory[x].fitness)) #todo"
   ]
  },
  {
   "cell_type": "code",
   "execution_count": 273,
   "id": "11c568fb",
   "metadata": {},
   "outputs": [],
   "source": [
    "def chooseFromHM(HarmonyMemory : list, harmony : list, i : int) -> list:\n",
    "    candidates = [HarmonyMemory[u][i] for u in range(len(HarmonyMemory))]\n",
    "    \n",
    "    random.shuffle(candidates)\n",
    "    \n",
    "    for c in candidates:\n",
    "        if c not in harmony:\n",
    "            if len(harmony) == 0 or g.has_edge(harmony[-1], c):\n",
    "                harmony.append(c)\n",
    "                return harmony\n",
    "    return harmony"
   ]
  },
  {
   "cell_type": "code",
   "execution_count": 158,
   "id": "d1008777",
   "metadata": {},
   "outputs": [],
   "source": [
    "def adjustHarmony(harmony : list) -> list:\n",
    "    var = harmony[-1]\n",
    "    neighbors = [u for u in g.neighbors(var)]\n",
    "    \n",
    "    random.shuffle(neighbors)\n",
    "    \n",
    "    for u in neighbors:\n",
    "        if u not in harmony:\n",
    "            if len(harmony) == 1 or g.has_edge(harmony[-2], u):\n",
    "                harmony.remove(var)\n",
    "                harmony.append(u)\n",
    "                return harmony\n",
    "    return harmony ##problem?"
   ]
  },
  {
   "cell_type": "code",
   "execution_count": 281,
   "id": "f50aee46",
   "metadata": {},
   "outputs": [],
   "source": [
    "def improvise(harmony : list) -> list:\n",
    "    neighbors = [u for u in g.neighbors(var)]\n",
    "    \n",
    "    random.shuffle(neighbors)\n",
    "    \n",
    "    for u in neighbors:\n",
    "        if u not in harmony:\n",
    "            if len(harmony) == 0 or g.has_edge(harmony[-1], u):\n",
    "                harmony.append(u)\n",
    "                return harmony\n",
    "    return harmony #problem?"
   ]
  },
  {
   "cell_type": "code",
   "execution_count": null,
   "id": "45225e10",
   "metadata": {},
   "outputs": [],
   "source": []
  }
 ],
 "metadata": {
  "kernelspec": {
   "display_name": "Python 3 (ipykernel)",
   "language": "python",
   "name": "python3"
  },
  "language_info": {
   "codemirror_mode": {
    "name": "ipython",
    "version": 3
   },
   "file_extension": ".py",
   "mimetype": "text/x-python",
   "name": "python",
   "nbconvert_exporter": "python",
   "pygments_lexer": "ipython3",
   "version": "3.8.10"
  }
 },
 "nbformat": 4,
 "nbformat_minor": 5
}
